def header_sceening(Image_1,Image_2):
    date_time_hour = Image_1.header["TIME-OBS"]
    date_time_date = Image_1.header["DATE-OBS"]
    date_time_str = date_time_date+ " " + date_time_hour
    date_time_obj = datetime.datetime.strptime(date_time_str, '%Y/%m/%d %H:%M:%S.%f')
    date_time_hour = Image_2.header["TIME-OBS"]
    date_time_date = Image_2.header["DATE-OBS"]
    date_time_str = date_time_date+ " " + date_time_hour
    date_time_obj2 = datetime.datetime.strptime(date_time_str, '%Y/%m/%d %H:%M:%S.%f')
    x = date_time_obj - date_time_obj2
    time_range = x.total_seconds() < Image_1.header["CDELT1"]
    return time_range
  
def pol_merging(Image_1,Image_2):
    merged_matrix = np.empty((Image_1.header["NAXIS2"],Image_1.header["NAXIS1"]))
    time_range = header_sceening(Image_1,Image_2)
    if time_range == True:
        for index, array in enumerate(Image_1):
            for pos,v1 in enumerate(array):
                v2 = Image_2[index][pos]
                if v1 == np.nan or v2 == np.nan:
                    merged_matrix[index,pos]=np.nan
                else:
                    lp = (v1**2+v2**2)**0.5
                    merged_matrix[index,pos]=lp
    Image_1.data = merged_matrix
    Image_1.header["DATAMIN"] = merged_matrix.min()
    Image_1.header["DATAMAX"] = merged_matrix.max()
    Image_1.data = Image_1.data.astype('uint8')
    return Image_1
