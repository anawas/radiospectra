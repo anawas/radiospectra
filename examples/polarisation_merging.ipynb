import numpy as np
from radiospectra.sources.callisto import CallistoSpectrogram

def pol_merging(Image_1,Image_2):
    merged_matrix = np.empty((Image_1.header["NAXIS2"],Image_1.header["NAXIS1"]))
    if Image_1.get_header() == Image_2.get_header():
        for index, array in enumerate(Image_1):
            for pos,v1 in enumerate(array):
                v2 = Image_2[index][pos]
                if v1 == np.nan or v2 == np.nan:
                    merged_matrix[index,pos]=np.nan
                else:
                    lp = (v1**2+v2**2)**0.5
                    merged_matrix[index,pos]=lp
    Image_1.data = merged_matrix
    Image_1.header["DATAMIN"] = merged_matrix.min()
    Image_1.header["DATAMAX"] = merged_matrix.max()
    Image_1.data = Image_1.data.astype('uint8')
    return Image_1
