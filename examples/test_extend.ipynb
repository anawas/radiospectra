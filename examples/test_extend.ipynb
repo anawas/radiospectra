{
 "cells": [
  {
   "cell_type": "code",
   "execution_count": null,
   "metadata": {},
   "outputs": [],
   "source": [
    "%matplotlib notebook\n",
    "from radiospectra.sources import CallistoSpectrogram\n",
    "\n",
    "instrument = 'ALASKA'\n",
    "start_time = '2018-04-01 00:00:00'\n",
    "end_time = '2018-04-01 00:15:00'\n",
    "\n",
    "image = CallistoSpectrogram.from_range(instrument, start_time, end_time)\n",
    "image.peek()\n",
    "more = image.extend()\n",
    "more.peek()"
   ]
  }
 ],
 "metadata": {
  "kernelspec": {
   "display_name": "Python 3",
   "language": "python",
   "name": "python3"
  },
  "language_info": {
   "codemirror_mode": {
    "name": "ipython",
    "version": 3
   },
   "file_extension": ".py",
   "mimetype": "text/x-python",
   "name": "python",
   "nbconvert_exporter": "python",
   "pygments_lexer": "ipython3",
   "version": "3.6.4"
  }
 },
 "nbformat": 4,
 "nbformat_minor": 2
}
