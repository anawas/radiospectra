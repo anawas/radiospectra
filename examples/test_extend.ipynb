{
 "cells": [
  {
   "cell_type": "code",
   "execution_count": null,
   "metadata": {},
   "outputs": [],
   "source": [
    "#import local radiospectra module\n",
    "\n",
    "%matplotlib notebook\n",
    "import os, sys\n",
    "top_dir = os.path.split(os.path.realpath('.'))[0]\n",
    "if top_dir != sys.path[0] and top_dir != sys.path[1]:\n",
    "    sys.path.insert(1,top_dir)\n",
    "path_to_import = os.path.abspath(top_dir + os.sep + \"radiospectra\")\n",
    "\n",
    "import radiospectra\n",
    "if(path_to_import != os.path.abspath(radiospectra.__path__[0])):\n",
    "    print(f'Module to import: {path_to_import}')\n",
    "    print(f'Module that was imported: {os.path.abspath(radiospectra.__path__[0])}')\n",
    "    raise Exception('Wrong radiospectra module was imported. (not local)')\n",
    "else:\n",
    "    print(f'Imported local radiospectra from: {os.path.abspath(radiospectra.__path__[0])}')\n",
    "from radiospectra.sources import CallistoSpectrogram"
   ]
  },
  {
   "cell_type": "code",
   "execution_count": null,
   "metadata": {
    "scrolled": false
   },
   "outputs": [],
   "source": [
    "import sunpy\n",
    "instrument = 'BIR'\n",
    "start_time = '2011-06-07 06:00:00'\n",
    "end_time = '2011-06-07 07:00:00'\n",
    "\n",
    "image = CallistoSpectrogram.from_range(instrument, start_time, end_time)\n",
    "image.peek()\n",
    "more = image.extend(16)\n",
    "more.peek()"
   ]
  },
  {
   "cell_type": "code",
   "execution_count": null,
   "metadata": {
    "scrolled": false
   },
   "outputs": [],
   "source": [
    "import sunpy\n",
    "from sunpy.data import sample\n",
    "image = CallistoSpectrogram.read(sunpy.data.sample.CALLISTO_SPECTRUM)\n",
    "more = image.extend(-1).extend()\n",
    "more.peek()"
   ]
  }
 ],
 "metadata": {
  "kernelspec": {
   "display_name": "Python 3",
   "language": "python",
   "name": "python3"
  },
  "language_info": {
   "codemirror_mode": {
    "name": "ipython",
    "version": 3
   },
   "file_extension": ".py",
   "mimetype": "text/x-python",
   "name": "python",
   "nbconvert_exporter": "python",
   "pygments_lexer": "ipython3",
   "version": "3.6.4"
  }
 },
 "nbformat": 4,
 "nbformat_minor": 2
}
