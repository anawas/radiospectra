{
 "cells": [
  {
   "cell_type": "code",
   "execution_count": 2,
   "metadata": {},
   "outputs": [
    {
     "ename": "ModuleNotFoundError",
     "evalue": "No module named 'radiospectra'",
     "output_type": "error",
     "traceback": [
      "\u001b[1;31m---------------------------------------------------------------------------\u001b[0m",
      "\u001b[1;31mModuleNotFoundError\u001b[0m                       Traceback (most recent call last)",
      "\u001b[1;32m<ipython-input-2-2a8803608406>\u001b[0m in \u001b[0;36m<module>\u001b[1;34m()\u001b[0m\n\u001b[0;32m      1\u001b[0m \u001b[0mget_ipython\u001b[0m\u001b[1;33m(\u001b[0m\u001b[1;33m)\u001b[0m\u001b[1;33m.\u001b[0m\u001b[0mrun_line_magic\u001b[0m\u001b[1;33m(\u001b[0m\u001b[1;34m'matplotlib'\u001b[0m\u001b[1;33m,\u001b[0m \u001b[1;34m'notebook'\u001b[0m\u001b[1;33m)\u001b[0m\u001b[1;33m\u001b[0m\u001b[0m\n\u001b[1;32m----> 2\u001b[1;33m \u001b[1;32mfrom\u001b[0m \u001b[0mradiospectra\u001b[0m\u001b[1;33m.\u001b[0m\u001b[0mradiospectra\u001b[0m\u001b[1;33m.\u001b[0m\u001b[0msources\u001b[0m \u001b[1;32mimport\u001b[0m \u001b[0mCallistoSpectrogram\u001b[0m\u001b[1;33m\u001b[0m\u001b[0m\n\u001b[0m\u001b[0;32m      3\u001b[0m \u001b[1;33m\u001b[0m\u001b[0m\n\u001b[0;32m      4\u001b[0m \u001b[0minstrument\u001b[0m \u001b[1;33m=\u001b[0m \u001b[1;34m'ALASKA'\u001b[0m\u001b[1;33m\u001b[0m\u001b[0m\n\u001b[0;32m      5\u001b[0m \u001b[0mstart_time\u001b[0m \u001b[1;33m=\u001b[0m \u001b[1;34m'2018-04-01 00:00:00'\u001b[0m\u001b[1;33m\u001b[0m\u001b[0m\n",
      "\u001b[1;31mModuleNotFoundError\u001b[0m: No module named 'radiospectra'"
     ]
    }
   ],
   "source": [
    "#import local radiospectra module\n",
    "\n",
    "%matplotlib notebook\n",
    "import os, sys\n",
    "top_dir = os.path.split(os.path.realpath('.'))[0]\n",
    "if top_dir != sys.path[0] and top_dir != sys.path[1]:\n",
    "    sys.path.insert(1,top_dir)\n",
    "path_to_import = os.path.abspath(top_dir + os.sep + \"radiospectra\")\n",
    "\n",
    "import radiospectra\n",
    "if(path_to_import != os.path.abspath(radiospectra.__path__[0])):\n",
    "    print(f'Module to import: {path_to_import}')\n",
    "    print(f'Module that was imported: {os.path.abspath(radiospectra.__path__[0])}')\n",
    "    raise Exception('Wrong radiospectra module was imported. (not local)')\n",
    "else:\n",
    "    print(f'Imported local radiospectra from: {os.path.abspath(radiospectra.__path__[0])}')\n",
    "from radiospectra.sources import CallistoSpectrogram"
   ]
  },
  {
   "cell_type": "code",
   "execution_count": null,
   "metadata": {
    "scrolled": false
   },
   "outputs": [],
   "source": [
    "import sunpy\n",
    "instrument = 'BIR'\n",
    "start_time = '2011-06-07 06:00:00'\n",
    "end_time = '2011-06-07 07:00:00'\n",
    "\n",
    "image = CallistoSpectrogram.from_range(instrument, start_time, end_time)\n",
    "image.peek()\n",
    "more = image.extend(16)\n",
    "more.peek()"
   ]
  },
  {
   "cell_type": "code",
   "execution_count": null,
   "metadata": {
    "scrolled": false
   },
   "outputs": [],
   "source": [
    "import sunpy\n",
    "from sunpy.data import sample\n",
    "image = CallistoSpectrogram.read(sunpy.data.sample.CALLISTO_SPECTRUM)\n",
    "more = image.extend(-1).extend()\n",
    "more.peek()"
   ]
  },
  {
   "cell_type": "code",
   "execution_count": null,
   "metadata": {},
   "outputs": [],
   "source": []
  }
 ],
 "metadata": {
  "kernelspec": {
   "display_name": "Python 3",
   "language": "python",
   "name": "python3"
  },
  "language_info": {
   "codemirror_mode": {
    "name": "ipython",
    "version": 3
   },
   "file_extension": ".py",
   "mimetype": "text/x-python",
   "name": "python",
   "nbconvert_exporter": "python",
   "pygments_lexer": "ipython3",
   "version": "3.6.5"
  }
 },
 "nbformat": 4,
 "nbformat_minor": 2
}
