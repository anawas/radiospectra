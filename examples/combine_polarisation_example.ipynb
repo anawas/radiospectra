{
 "cells": [
  {
   "cell_type": "code",
   "execution_count": null,
   "metadata": {},
   "outputs": [],
   "source": [
    "#Combine Polarization\n",
    "#combine_polarization produces a merged copy of two polarization of the same event from one instrument."
   ]
  },
  {
   "cell_type": "code",
   "execution_count": null,
   "metadata": {},
   "outputs": [],
   "source": [
    "# import local radiospectra module\n",
    "\n",
    "import os, sys\n",
    "top_dir = os.path.split(os.path.realpath('.'))[0]\n",
    "if top_dir != sys.path[0] and top_dir != sys.path[1]:\n",
    "    sys.path.insert(1,top_dir)\n",
    "path_to_import = os.path.abspath(top_dir + os.sep + \"radiospectra\")\n",
    "\n",
    "import radiospectra\n",
    "if(path_to_import != os.path.abspath(radiospectra.__path__[0])):\n",
    "    print(f'Module to import: {path_to_import}')\n",
    "    print(f'Module that was imported: {os.path.abspath(radiospectra.__path__[0])}')\n",
    "    raise Exception('Wrong radiospectra module was imported. (not local)')\n",
    "else:\n",
    "    print(f'Imported local radiospectra from: {os.path.abspath(radiospectra.__path__[0])}')\n",
    "from radiospectra.sources import CallistoSpectrogram"
   ]
  },
  {
   "cell_type": "code",
   "execution_count": null,
   "metadata": {},
   "outputs": [],
   "source": [
    "# image display settings\n",
    "%matplotlib inline\n",
    "import matplotlib.pyplot as plt\n",
    "plt.rcParams[\"figure.figsize\"] = (25,10)"
   ]
  },
  {
   "cell_type": "code",
   "execution_count": null,
   "metadata": {
    "scrolled": false
   },
   "outputs": [],
   "source": [
    "#define both spectra's to pass them to the function\n",
    "Spec_1 = CallistoSpectrogram.from_url(\"http://soleil.i4ds.ch/solarradio/data/2002-20yy_Callisto/2018/04/01/ALASKA-COHOE_20180401_161500_00.fit.gz\")\n",
    "Spec_2 = CallistoSpectrogram.from_url(\"http://soleil.i4ds.ch/solarradio/data/2002-20yy_Callisto/2018/04/01/ALASKA-COHOE_20180401_161500_01.fit.gz\")\n",
    "Spec_1.peek()\n",
    "Spec_2.peek()"
   ]
  },
  {
   "cell_type": "code",
   "execution_count": null,
   "metadata": {
    "scrolled": false
   },
   "outputs": [],
   "source": [
    "#combine_polarisation checks headers of the given spectrograms and evaluates a combined spectragram.\n",
    "#Note: The new combined spec uses the header of Spec_1.\n",
    "\n",
    "Combined_Spec = CallistoSpectrogram.combine_polarisation(Spec_1,Spec_2)\n",
    "Combined_Spec.peek()"
   ]
  }
 ],
 "metadata": {
  "kernelspec": {
   "display_name": "Python 3",
   "language": "python",
   "name": "python3"
  },
  "language_info": {
   "codemirror_mode": {
    "name": "ipython",
    "version": 3
   },
   "file_extension": ".py",
   "mimetype": "text/x-python",
   "name": "python",
   "nbconvert_exporter": "python",
   "pygments_lexer": "ipython3",
   "version": "3.6.4"
  }
 },
 "nbformat": 4,
 "nbformat_minor": 2
}
