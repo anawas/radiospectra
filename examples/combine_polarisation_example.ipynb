{
 "cells": [
  {
   "cell_type": "code",
   "execution_count": 7,
   "metadata": {},
   "outputs": [],
   "source": [
    "#Combine Polarization\n",
    "#combine_polarization produces a merged copy of two polarization of the same event from one instrument."
   ]
  },
  {
   "cell_type": "code",
   "execution_count": 1,
   "metadata": {},
   "outputs": [],
   "source": [
    "from radiospectra.sources.callisto import CallistoSpectrogram"
   ]
  },
  {
   "cell_type": "code",
   "execution_count": 3,
   "metadata": {},
   "outputs": [],
   "source": [
    "#define both spectra's to pass them to the function\n",
    "Spec_1 = CallistoSpectrogram.from_url(\"C:\\\\Users\\\\David Sommer\\\\Desktop\\\\ALASKA-COHOE_20180401_161500_00.fit\")\n",
    "Spec_2 = CallistoSpectrogram.from_url(\"C:\\\\Users\\\\David Sommer\\\\Desktop\\\\ALASKA-COHOE_20180401_161500_01.fit\")"
   ]
  },
  {
   "cell_type": "code",
   "execution_count": 4,
   "metadata": {},
   "outputs": [
    {
     "ename": "NameError",
     "evalue": "name 'combine_polarisation' is not defined",
     "output_type": "error",
     "traceback": [
      "\u001b[1;31m---------------------------------------------------------------------------\u001b[0m",
      "\u001b[1;31mNameError\u001b[0m                                 Traceback (most recent call last)",
      "\u001b[1;32m<ipython-input-4-88e77ee5b5d1>\u001b[0m in \u001b[0;36m<module>\u001b[1;34m\u001b[0m\n\u001b[1;32m----> 1\u001b[1;33m \u001b[0mcombine_polarisation\u001b[0m\u001b[1;33m(\u001b[0m\u001b[0mSpec_1\u001b[0m\u001b[1;33m,\u001b[0m\u001b[0mSpec_2\u001b[0m\u001b[1;33m)\u001b[0m\u001b[1;33m\u001b[0m\u001b[1;33m\u001b[0m\u001b[0m\n\u001b[0m",
      "\u001b[1;31mNameError\u001b[0m: name 'combine_polarisation' is not defined"
     ]
    }
   ],
   "source": [
    "#combine_polarisation checks headers of the given spectrograms and evaluates a combined spectragram.\n",
    "#Note: The new combined spec. uses the header of Spec_1.\n",
    "\n",
    "Combined_Spec = combine_polarisation(Spec_1,Spec_2)\n",
    "Combined_Spec.peek()"
   ]
  }
 ],
 "metadata": {
  "kernelspec": {
   "display_name": "Python 3",
   "language": "python",
   "name": "python3"
  },
  "language_info": {
   "codemirror_mode": {
    "name": "ipython",
    "version": 3
   },
   "file_extension": ".py",
   "mimetype": "text/x-python",
   "name": "python",
   "nbconvert_exporter": "python",
   "pygments_lexer": "ipython3",
   "version": "3.7.1"
  }
 },
 "nbformat": 4,
 "nbformat_minor": 2
}
