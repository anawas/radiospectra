{
 "cells": [
  {
   "cell_type": "code",
   "execution_count": null,
   "metadata": {},
   "outputs": [],
   "source": [
    "# import local radiospectra module\n",
    "\n",
    "import os, sys\n",
    "top_dir = os.path.split(os.path.realpath('.'))[0]\n",
    "if top_dir != sys.path[0] and top_dir != sys.path[1]:\n",
    "    sys.path.insert(1,top_dir)\n",
    "path_to_import = os.path.abspath(top_dir + os.sep + \"radiospectra\")\n",
    "\n",
    "import radiospectra\n",
    "if(path_to_import != os.path.abspath(radiospectra.__path__[0])):\n",
    "    print(f'Module to import: {path_to_import}')\n",
    "    print(f'Module that was imported: {os.path.abspath(radiospectra.__path__[0])}')\n",
    "    raise Exception('Wrong radiospectra module was imported. (not local)')\n",
    "else:\n",
    "    print(f'Imported local radiospectra from: {os.path.abspath(radiospectra.__path__[0])}')\n",
    "from radiospectra.sources import CallistoSpectrogram"
   ]
  },
  {
   "cell_type": "code",
   "execution_count": null,
   "metadata": {},
   "outputs": [],
   "source": [
    "# image display settings\n",
    "%matplotlib inline\n",
    "import matplotlib.pyplot as plt\n",
    "plt.rcParams[\"figure.figsize\"] = (25,10)"
   ]
  },
  {
   "cell_type": "code",
   "execution_count": null,
   "metadata": {
    "scrolled": false
   },
   "outputs": [],
   "source": [
    "# read CallistoSpectrogram from fits file\n",
    "\n",
    "spec = CallistoSpectrogram.read(\"example_callisto_border/ALASKA_20180401_000000_59.fit.gz\")\n",
    "spec.peek()\n",
    "%xdel spec"
   ]
  },
  {
   "cell_type": "code",
   "execution_count": null,
   "metadata": {},
   "outputs": [],
   "source": [
    "# read CallistoSpectrogram from fits file and extend it\n",
    "\n",
    "spec = CallistoSpectrogram.read(\"example_callisto_border/ALASKA_20180401_000000_59.fit.gz\")\n",
    "spec = spec.extend().extend(-1)\n",
    "spec.peek()\n",
    "%xdel spec"
   ]
  },
  {
   "cell_type": "code",
   "execution_count": null,
   "metadata": {},
   "outputs": [],
   "source": [
    "# load CallistoSpectrogram from the internet via url\n",
    "\n",
    "spec = CallistoSpectrogram.from_url('http://soleil.i4ds.ch/solarradio/data/2002-20yy_Callisto/2018/04/01/ALASKA_20180401_150000_59.fit.gz')\n",
    "spec.peek()\n",
    "%xdel spec"
   ]
  },
  {
   "cell_type": "code",
   "execution_count": null,
   "metadata": {
    "scrolled": false
   },
   "outputs": [],
   "source": [
    "# load CallistoSpectrogram's in a time range from the internet and combine them\n",
    "\n",
    "spec = CallistoSpectrogram.from_range('ALASKA', '2018-04-01T00:00:00', '2018-04-02T00:00:00')\n",
    "spec.peek()\n",
    "print(spec.shape)\n",
    "%xdel spec"
   ]
  },
  {
   "cell_type": "code",
   "execution_count": null,
   "metadata": {
    "scrolled": false
   },
   "outputs": [],
   "source": [
    "# Load and join a series of spectrograms of the same instrument\n",
    "\n",
    "import os\n",
    "spectrograms = []\n",
    "\n",
    "for root, dirs, files in os.walk(\"example_callisto_joining\", topdown = False):\n",
    "    for file in files:\n",
    "        full_name = os.path.join(root, file)\n",
    "        spec = CallistoSpectrogram.read(full_name)\n",
    "        spectrograms.append(spec)\n",
    "        \n",
    "spec_joined = CallistoSpectrogram.new_join_many(spectrograms)\n",
    "spec_joined.peek()\n",
    "%xdel spectrograms"
   ]
  },
  {
   "cell_type": "code",
   "execution_count": null,
   "metadata": {
    "scrolled": false
   },
   "outputs": [],
   "source": [
    "# current implementation of the background subtraction\n",
    "\n",
    "spec_joined_default_bgs = spec_joined.subtract_bg()\n",
    "spec_joined_default_bgs.peek(vmin=0)\n",
    "%xdel spec_joined_default_bgs"
   ]
  },
  {
   "cell_type": "code",
   "execution_count": null,
   "metadata": {
    "scrolled": false
   },
   "outputs": [],
   "source": [
    "# new implementation of the background subtraction with a sliding window\n",
    "# Arguments:\n",
    "#   window_width   - the width of the sliding window that is used to determine the background for the current position\n",
    "#   affected_width - the width of the \"window\" for that the current determined background is used\n",
    "#                    also determines how much the sliding window is moved each itteration\n",
    "#   amount         - The percent amount (out of 1) of lowest standard deviation to consider.\n",
    "#                    (this is the same as in the current implementation BUT applied to the sliding window)\n",
    "\n",
    "# NOTE:\n",
    "# currently returns three CallistoSpectrogram objects to make it easier to view the results\n",
    "# 1. The original spectrogram with the background subtracted\n",
    "# 2. The detected background\n",
    "# 3. A plot to show which columns were used how many times in the process of detecing the background\n",
    "# This is used to debug and analyze.\n",
    "# This is not to stay like this since number three is no Spectrogram\n",
    "# and the headers of number one and two are not adjusted to the background subtraction\n",
    "# The final version should only return number one with correct headers\n",
    "# Number two and three should still be made available since they carry potentially important information\n",
    "\n",
    "sliding_bgs, sliding_bg_only, sliding_column_freq = spec_joined.subtract_bg_sliding_window(\n",
    "    window_width=5000, affected_width=10, amount=0.05)\n",
    "sliding_bgs.peek(vmin=0)\n",
    "%xdel spec_joined\n",
    "%xdel sliding_bg_only\n",
    "%xdel sliding_column_freq"
   ]
  },
  {
   "cell_type": "code",
   "execution_count": null,
   "metadata": {},
   "outputs": [],
   "source": [
    "# new background subtraction with one cut point\n",
    "\n",
    "spec = CallistoSpectrogram.from_url('http://soleil.i4ds.ch/solarradio/data/2002-20yy_Callisto/2018/04/01/ALASKA_20180401_150000_59.fit.gz')\n",
    "spec.peek()\n",
    "bgs,_,_ = spec.subtract_bg_sliding_window(window_width=200, affected_width=1, amount=0.05, change_points = [1980])\n",
    "bgs.peek(vmin=0)\n",
    "\n",
    "\n",
    "%xdel bgs"
   ]
  },
  {
   "cell_type": "code",
   "execution_count": null,
   "metadata": {},
   "outputs": [],
   "source": [
    "bgs,_,_ = spec.subtract_bg_sliding_window(window_width=200, affected_width=1, amount=0.05, change_points = True)\n",
    "bgs.peek(vmin=0)\n",
    "\n",
    "%xdel spec"
   ]
  },
  {
   "cell_type": "code",
   "execution_count": null,
   "metadata": {},
   "outputs": [],
   "source": [
    "# Save the generated CallistoSpectrogram\n",
    "\n",
    "from time import gmtime, strftime\n",
    "file_name_save = str(f'example_callisto_joined/joined_{strftime(\"%Y_%m_%d_%H_%M_%S\", gmtime())}.fit.gz')\n",
    "sliding_bgs.save(file_name_save)\n",
    "%xdel sliding_bgs"
   ]
  },
  {
   "cell_type": "code",
   "execution_count": null,
   "metadata": {
    "scrolled": false
   },
   "outputs": [],
   "source": [
    "# Load and display the saved CallistoSpectrogram\n",
    "\n",
    "spec = CallistoSpectrogram.read(file_name_save)\n",
    "spec.peek(vmin=0)\n",
    "%xdel spec"
   ]
  }
 ],
 "metadata": {
  "kernelspec": {
   "display_name": "Python 3",
   "language": "python",
   "name": "python3"
  },
  "language_info": {
   "codemirror_mode": {
    "name": "ipython",
    "version": 3
   },
   "file_extension": ".py",
   "mimetype": "text/x-python",
   "name": "python",
   "nbconvert_exporter": "python",
   "pygments_lexer": "ipython3",
   "version": "3.6.5"
  }
 },
 "nbformat": 4,
 "nbformat_minor": 2
}
